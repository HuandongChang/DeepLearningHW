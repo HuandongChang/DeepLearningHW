{
  "nbformat": 4,
  "nbformat_minor": 0,
  "metadata": {
    "kernelspec": {
      "display_name": "Python 3",
      "language": "python",
      "name": "python3"
    },
    "language_info": {
      "codemirror_mode": {
        "name": "ipython",
        "version": 3
      },
      "file_extension": ".py",
      "mimetype": "text/x-python",
      "name": "python",
      "nbconvert_exporter": "python",
      "pygments_lexer": "ipython3",
      "version": "3.6.6"
    },
    "colab": {
      "name": "AIT-Deep-learning-Assigment-3",
      "provenance": [],
      "collapsed_sections": []
    }
  },
  "cells": [
    {
      "cell_type": "markdown",
      "metadata": {
        "id": "_jiGtJu6u9ml"
      },
      "source": [
        "# Copyright\n",
        "\n",
        "<PRE>\n",
        "Copyright (c) 2021 Bálint Gyires-Tóth - All Rights Reserved\n",
        "You may use and modify this code for research and development purpuses.\n",
        "Use this code for educational purposes (self-paced or instructor led) without the permission of the author is prohibited.\n",
        "</PRE>"
      ]
    },
    {
      "cell_type": "markdown",
      "metadata": {
        "id": "oXyFC44jV-PP"
      },
      "source": [
        "# Author classification\n",
        "The task is to train a 1D CNN or an LSTM that is able to  classify text from two authors. The final model should be able to tell about a text with a given length (e.g. 60 characters) who wrote it. \n",
        "\n",
        "Please write the codes according to the following parts:"
      ]
    },
    {
      "cell_type": "markdown",
      "metadata": {
        "id": "jCnLoeGrHXsp"
      },
      "source": [
        "## Python module imports\n",
        "Import all Python modules that you would need during the Assignment."
      ]
    },
    {
      "cell_type": "code",
      "metadata": {
        "id": "7itbFGt3HXVT"
      },
      "source": [
        "from tensorflow.keras.models import Sequential\n",
        "from tensorflow.keras.layers import Dense, Activation, Dropout\n",
        "from tensorflow.keras.layers import LSTM\n",
        "from tensorflow.keras.optimizers import RMSprop\n",
        "from urllib.request import urlretrieve\n",
        "import numpy as np\n",
        "import pandas as pd\n",
        "import random\n",
        "import sys\n",
        "import re, cgi\n",
        "import seaborn as sns\n",
        "\n",
        "from tensorflow.keras.preprocessing.text import Tokenizer\n",
        "from sklearn.model_selection import train_test_split\n",
        "from tensorflow.keras.preprocessing.sequence import pad_sequences\n",
        "\n",
        "\n",
        "import matplotlib.pyplot as plt\n",
        "from sklearn.metrics import confusion_matrix"
      ],
      "execution_count": 96,
      "outputs": []
    },
    {
      "cell_type": "markdown",
      "metadata": {
        "id": "Hr617tEpHd8R"
      },
      "source": [
        "## Data acquisition\n",
        "Seek a possible dataset, you can use any source, e.g.\n",
        "* http://www.gutenberg.org/\n",
        "* https://www.kaggle.com/datasets\n",
        "* https://paperswithcode.com/datasets\n",
        "* if you would like to learn Hungarian, than e.g. https://mek.oszk.hu/\n",
        "\n",
        "You can download the text by hand (e.g. by copy-pasting some parts into txt files) or with Python. "
      ]
    },
    {
      "cell_type": "code",
      "metadata": {
        "id": "NgkdQxHqHdZB"
      },
      "source": [
        "# Shakespeare\n",
        "url_book1= \"https://www.gutenberg.org/files/1430/1430-0.txt\"\n",
        "urlretrieve(url_book1, 'book1.txt')\n",
        "text1 = open(\"book1.txt\", encoding='utf-8').read().lower()\n",
        "\n",
        "# Mark Twain\n",
        "url_book2= \"https://www.gutenberg.org/files/76/76-0.txt\"\n",
        "urlretrieve(url_book2, 'book2.txt')\n",
        "text2 = open(\"book2.txt\", encoding='utf-8').read().lower()\n",
        "\n",
        "\n"
      ],
      "execution_count": 82,
      "outputs": []
    },
    {
      "cell_type": "code",
      "source": [
        "# I split by text\n",
        "split1=text1.split()\n",
        "len(split1)\n",
        "\n",
        "split2=text2.split()\n",
        "len(split2)"
      ],
      "metadata": {
        "colab": {
          "base_uri": "https://localhost:8080/"
        },
        "id": "pooozo0joHf7",
        "outputId": "bc995b3d-1fc5-4509-d52e-06ef0ad2bdd1"
      },
      "execution_count": 83,
      "outputs": [
        {
          "output_type": "execute_result",
          "data": {
            "text/plain": [
              "114333"
            ]
          },
          "metadata": {},
          "execution_count": 83
        }
      ]
    },
    {
      "cell_type": "code",
      "source": [
        "maxlen  = 40\n",
        "step    = 5   \n",
        "sentences1  = []\n",
        "sentences2  = []\n",
        "\n",
        "# the beginning and the ending are not related to their articles\n",
        "for i in range(1000, len(split1)-maxlen-1000, step):\n",
        "    sentences1.append(' '.join(split1[i:i+maxlen])) \n",
        "\n",
        "\n",
        "for i in range(1000, len(split2)-maxlen-1000, step):\n",
        "    sentences2.append(' '.join(split2[i:i+maxlen])) "
      ],
      "metadata": {
        "id": "MEhvp5pdsa7o"
      },
      "execution_count": 84,
      "outputs": []
    },
    {
      "cell_type": "code",
      "source": [
        "# Create dataframe\n",
        "df1 = pd.DataFrame(sentences1,columns =['Sentences'])\n",
        "df1['Author_name'] = 'Shakespeare'\n",
        "df1['Author'] = 0\n",
        "\n",
        "df2 = pd.DataFrame(sentences2,columns =['Sentences'])\n",
        "df2['Author_name'] = 'Mark Twain'\n",
        "df2['Author'] = 1"
      ],
      "metadata": {
        "id": "nOvMgIHjtV7E"
      },
      "execution_count": 85,
      "outputs": []
    },
    {
      "cell_type": "code",
      "source": [
        "# Combine two datasets into one\n",
        "df = df1.append(df2)"
      ],
      "metadata": {
        "id": "aR-WAeRzuFz5"
      },
      "execution_count": 86,
      "outputs": []
    },
    {
      "cell_type": "code",
      "source": [
        "df"
      ],
      "metadata": {
        "colab": {
          "base_uri": "https://localhost:8080/",
          "height": 423
        },
        "id": "VVEN7IBYuQRp",
        "outputId": "9d74805a-8315-475b-9d43-d759285a7c87"
      },
      "execution_count": 87,
      "outputs": [
        {
          "output_type": "execute_result",
          "data": {
            "text/plain": [
              "                                               Sentences  Author_name  Author\n",
              "0      not properly be called any one of them, the na...  Shakespeare       0\n",
              "1      one of them, the nature of his occupation was ...  Shakespeare       0\n",
              "2      of his occupation was such as to make it easy ...  Shakespeare       0\n",
              "3      as to make it easy to understand how the vario...  Shakespeare       0\n",
              "4      to understand how the various traditions spran...  Shakespeare       0\n",
              "...                                                  ...          ...     ...\n",
              "22454  you discover a defect in this electronic work ...   Mark Twain       1\n",
              "22455  this electronic work within 90 days of receivi...   Mark Twain       1\n",
              "22456  days of receiving it, you can receive a refund...   Mark Twain       1\n",
              "22457  can receive a refund of the money (if any) you...   Mark Twain       1\n",
              "22458  the money (if any) you paid for it by sending ...   Mark Twain       1\n",
              "\n",
              "[32570 rows x 3 columns]"
            ],
            "text/html": [
              "\n",
              "  <div id=\"df-152ff1aa-c22c-4721-aff7-2a161f22130a\">\n",
              "    <div class=\"colab-df-container\">\n",
              "      <div>\n",
              "<style scoped>\n",
              "    .dataframe tbody tr th:only-of-type {\n",
              "        vertical-align: middle;\n",
              "    }\n",
              "\n",
              "    .dataframe tbody tr th {\n",
              "        vertical-align: top;\n",
              "    }\n",
              "\n",
              "    .dataframe thead th {\n",
              "        text-align: right;\n",
              "    }\n",
              "</style>\n",
              "<table border=\"1\" class=\"dataframe\">\n",
              "  <thead>\n",
              "    <tr style=\"text-align: right;\">\n",
              "      <th></th>\n",
              "      <th>Sentences</th>\n",
              "      <th>Author_name</th>\n",
              "      <th>Author</th>\n",
              "    </tr>\n",
              "  </thead>\n",
              "  <tbody>\n",
              "    <tr>\n",
              "      <th>0</th>\n",
              "      <td>not properly be called any one of them, the na...</td>\n",
              "      <td>Shakespeare</td>\n",
              "      <td>0</td>\n",
              "    </tr>\n",
              "    <tr>\n",
              "      <th>1</th>\n",
              "      <td>one of them, the nature of his occupation was ...</td>\n",
              "      <td>Shakespeare</td>\n",
              "      <td>0</td>\n",
              "    </tr>\n",
              "    <tr>\n",
              "      <th>2</th>\n",
              "      <td>of his occupation was such as to make it easy ...</td>\n",
              "      <td>Shakespeare</td>\n",
              "      <td>0</td>\n",
              "    </tr>\n",
              "    <tr>\n",
              "      <th>3</th>\n",
              "      <td>as to make it easy to understand how the vario...</td>\n",
              "      <td>Shakespeare</td>\n",
              "      <td>0</td>\n",
              "    </tr>\n",
              "    <tr>\n",
              "      <th>4</th>\n",
              "      <td>to understand how the various traditions spran...</td>\n",
              "      <td>Shakespeare</td>\n",
              "      <td>0</td>\n",
              "    </tr>\n",
              "    <tr>\n",
              "      <th>...</th>\n",
              "      <td>...</td>\n",
              "      <td>...</td>\n",
              "      <td>...</td>\n",
              "    </tr>\n",
              "    <tr>\n",
              "      <th>22454</th>\n",
              "      <td>you discover a defect in this electronic work ...</td>\n",
              "      <td>Mark Twain</td>\n",
              "      <td>1</td>\n",
              "    </tr>\n",
              "    <tr>\n",
              "      <th>22455</th>\n",
              "      <td>this electronic work within 90 days of receivi...</td>\n",
              "      <td>Mark Twain</td>\n",
              "      <td>1</td>\n",
              "    </tr>\n",
              "    <tr>\n",
              "      <th>22456</th>\n",
              "      <td>days of receiving it, you can receive a refund...</td>\n",
              "      <td>Mark Twain</td>\n",
              "      <td>1</td>\n",
              "    </tr>\n",
              "    <tr>\n",
              "      <th>22457</th>\n",
              "      <td>can receive a refund of the money (if any) you...</td>\n",
              "      <td>Mark Twain</td>\n",
              "      <td>1</td>\n",
              "    </tr>\n",
              "    <tr>\n",
              "      <th>22458</th>\n",
              "      <td>the money (if any) you paid for it by sending ...</td>\n",
              "      <td>Mark Twain</td>\n",
              "      <td>1</td>\n",
              "    </tr>\n",
              "  </tbody>\n",
              "</table>\n",
              "<p>32570 rows × 3 columns</p>\n",
              "</div>\n",
              "      <button class=\"colab-df-convert\" onclick=\"convertToInteractive('df-152ff1aa-c22c-4721-aff7-2a161f22130a')\"\n",
              "              title=\"Convert this dataframe to an interactive table.\"\n",
              "              style=\"display:none;\">\n",
              "        \n",
              "  <svg xmlns=\"http://www.w3.org/2000/svg\" height=\"24px\"viewBox=\"0 0 24 24\"\n",
              "       width=\"24px\">\n",
              "    <path d=\"M0 0h24v24H0V0z\" fill=\"none\"/>\n",
              "    <path d=\"M18.56 5.44l.94 2.06.94-2.06 2.06-.94-2.06-.94-.94-2.06-.94 2.06-2.06.94zm-11 1L8.5 8.5l.94-2.06 2.06-.94-2.06-.94L8.5 2.5l-.94 2.06-2.06.94zm10 10l.94 2.06.94-2.06 2.06-.94-2.06-.94-.94-2.06-.94 2.06-2.06.94z\"/><path d=\"M17.41 7.96l-1.37-1.37c-.4-.4-.92-.59-1.43-.59-.52 0-1.04.2-1.43.59L10.3 9.45l-7.72 7.72c-.78.78-.78 2.05 0 2.83L4 21.41c.39.39.9.59 1.41.59.51 0 1.02-.2 1.41-.59l7.78-7.78 2.81-2.81c.8-.78.8-2.07 0-2.86zM5.41 20L4 18.59l7.72-7.72 1.47 1.35L5.41 20z\"/>\n",
              "  </svg>\n",
              "      </button>\n",
              "      \n",
              "  <style>\n",
              "    .colab-df-container {\n",
              "      display:flex;\n",
              "      flex-wrap:wrap;\n",
              "      gap: 12px;\n",
              "    }\n",
              "\n",
              "    .colab-df-convert {\n",
              "      background-color: #E8F0FE;\n",
              "      border: none;\n",
              "      border-radius: 50%;\n",
              "      cursor: pointer;\n",
              "      display: none;\n",
              "      fill: #1967D2;\n",
              "      height: 32px;\n",
              "      padding: 0 0 0 0;\n",
              "      width: 32px;\n",
              "    }\n",
              "\n",
              "    .colab-df-convert:hover {\n",
              "      background-color: #E2EBFA;\n",
              "      box-shadow: 0px 1px 2px rgba(60, 64, 67, 0.3), 0px 1px 3px 1px rgba(60, 64, 67, 0.15);\n",
              "      fill: #174EA6;\n",
              "    }\n",
              "\n",
              "    [theme=dark] .colab-df-convert {\n",
              "      background-color: #3B4455;\n",
              "      fill: #D2E3FC;\n",
              "    }\n",
              "\n",
              "    [theme=dark] .colab-df-convert:hover {\n",
              "      background-color: #434B5C;\n",
              "      box-shadow: 0px 1px 3px 1px rgba(0, 0, 0, 0.15);\n",
              "      filter: drop-shadow(0px 1px 2px rgba(0, 0, 0, 0.3));\n",
              "      fill: #FFFFFF;\n",
              "    }\n",
              "  </style>\n",
              "\n",
              "      <script>\n",
              "        const buttonEl =\n",
              "          document.querySelector('#df-152ff1aa-c22c-4721-aff7-2a161f22130a button.colab-df-convert');\n",
              "        buttonEl.style.display =\n",
              "          google.colab.kernel.accessAllowed ? 'block' : 'none';\n",
              "\n",
              "        async function convertToInteractive(key) {\n",
              "          const element = document.querySelector('#df-152ff1aa-c22c-4721-aff7-2a161f22130a');\n",
              "          const dataTable =\n",
              "            await google.colab.kernel.invokeFunction('convertToInteractive',\n",
              "                                                     [key], {});\n",
              "          if (!dataTable) return;\n",
              "\n",
              "          const docLinkHtml = 'Like what you see? Visit the ' +\n",
              "            '<a target=\"_blank\" href=https://colab.research.google.com/notebooks/data_table.ipynb>data table notebook</a>'\n",
              "            + ' to learn more about interactive tables.';\n",
              "          element.innerHTML = '';\n",
              "          dataTable['output_type'] = 'display_data';\n",
              "          await google.colab.output.renderOutput(dataTable, element);\n",
              "          const docLink = document.createElement('div');\n",
              "          docLink.innerHTML = docLinkHtml;\n",
              "          element.appendChild(docLink);\n",
              "        }\n",
              "      </script>\n",
              "    </div>\n",
              "  </div>\n",
              "  "
            ]
          },
          "metadata": {},
          "execution_count": 87
        }
      ]
    },
    {
      "cell_type": "markdown",
      "source": [
        "## Data analysis\n",
        "Count the number of characters from both authors and display them on a plot (e.g. Seaborn's countplot)."
      ],
      "metadata": {
        "id": "U9Pmq91t3SRD"
      }
    },
    {
      "cell_type": "code",
      "source": [
        "words1 = sorted(list(set(split1)))\n",
        "print('Number of unique words of the Shakespeare\\'s book:', len(words1))\n",
        "\n",
        "words2 = sorted(list(set(split2)))\n",
        "print('Number of unique words of the Shakespeare\\'s book:', len(words2))"
      ],
      "metadata": {
        "id": "uRqGdn4F3Spk",
        "colab": {
          "base_uri": "https://localhost:8080/"
        },
        "outputId": "b5509cf3-0889-4c66-f5ac-40fbf8a63bb1"
      },
      "execution_count": 88,
      "outputs": [
        {
          "output_type": "stream",
          "name": "stdout",
          "text": [
            "Number of unique words of the Shakespeare's book: 9552\n",
            "Number of unique words of the Shakespeare's book: 13510\n"
          ]
        }
      ]
    },
    {
      "cell_type": "code",
      "source": [
        "from nltk.probability import FreqDist\n",
        "fdist = FreqDist(split1+split2)\n",
        "\n",
        "values= list(fdist.values())\n",
        "# values = [x for x in values if x>5]\n",
        "sns.distplot(values) \n",
        "\n",
        "# From the plot we can tell setting MAX_NB_WORDS = 3000 in the tokenization part is a very safe choice."
      ],
      "metadata": {
        "colab": {
          "base_uri": "https://localhost:8080/",
          "height": 342
        },
        "id": "s39uvqsjBcGW",
        "outputId": "15b8e5fc-2822-4fcd-e692-8039b321a472"
      },
      "execution_count": 137,
      "outputs": [
        {
          "output_type": "stream",
          "name": "stderr",
          "text": [
            "/usr/local/lib/python3.7/dist-packages/seaborn/distributions.py:2619: FutureWarning: `distplot` is a deprecated function and will be removed in a future version. Please adapt your code to use either `displot` (a figure-level function with similar flexibility) or `histplot` (an axes-level function for histograms).\n",
            "  warnings.warn(msg, FutureWarning)\n"
          ]
        },
        {
          "output_type": "execute_result",
          "data": {
            "text/plain": [
              "<matplotlib.axes._subplots.AxesSubplot at 0x7f3d6dff5190>"
            ]
          },
          "metadata": {},
          "execution_count": 137
        },
        {
          "output_type": "display_data",
          "data": {
            "text/plain": [
              "<Figure size 432x288 with 1 Axes>"
            ],
            "image/png": "[encoded data removed]"
          },
          "metadata": {
            "needs_background": "light"
          }
        }
      ]
    },
    {
      "cell_type": "markdown",
      "metadata": {
        "id": "lL1Mc8ibHnep"
      },
      "source": [
        "## Data splitting\n",
        "Split the data into train, validate and test sets."
      ]
    },
    {
      "cell_type": "code",
      "metadata": {
        "id": "ELyG9XFUHrkB"
      },
      "source": [
        "# set aside 20% of train and test data for evaluation\n",
        "X_train, X_test, y_train, y_test = train_test_split(df['Sentences'], df['Author'],\n",
        "    test_size=0.2, shuffle = True, random_state = 8)\n",
        "\n",
        "# Use the same function above for the validation set\n",
        "X_train, X_val, y_train, y_val = train_test_split(X_train, y_train, \n",
        "    test_size=0.25, random_state= 8) # 0.25 x 0.8 = 0.2"
      ],
      "execution_count": 89,
      "outputs": []
    },
    {
      "cell_type": "code",
      "source": [
        "print(\"X_train shape: {}\".format(X_train.shape))\n",
        "print(\"X_test shape: {}\".format(X_test.shape))\n",
        "print(\"y_train shape: {}\".format(y_train.shape))\n",
        "print(\"y_test shape: {}\".format(y_test.shape))\n",
        "print(\"X_val shape: {}\".format(X_val.shape))\n",
        "print(\"y val shape: {}\".format(y_val.shape))"
      ],
      "metadata": {
        "colab": {
          "base_uri": "https://localhost:8080/"
        },
        "id": "hPEmieMn0x36",
        "outputId": "02772239-7722-410f-a89e-2ed676f017a8"
      },
      "execution_count": 90,
      "outputs": [
        {
          "output_type": "stream",
          "name": "stdout",
          "text": [
            "X_train shape: (19542,)\n",
            "X_test shape: (6514,)\n",
            "y_train shape: (19542,)\n",
            "y_test shape: (6514,)\n",
            "X_val shape: (6514,)\n",
            "y val shape: (6514,)\n"
          ]
        }
      ]
    },
    {
      "cell_type": "markdown",
      "metadata": {
        "id": "cHyE_ndGIblJ"
      },
      "source": [
        "## Data loading, labeling and preprocessing\n",
        "Load the data and convert the characters into one-hot encodings. Then load the data into a 3D NumPy array, with a shape of\n",
        "\n",
        "* (batch, sequence_length, alphabet_length)\n",
        "\n",
        "where sequence_length=60, and alphabet_length equals to the number of unique characters in both datasets. The sequences should be cut out from the complete dataset by sliding window. You should add 0 and 1 labels to the sequences, according to the author. \n",
        "\n",
        "Later you may change sequence_length to achieve better results!"
      ]
    },
    {
      "cell_type": "code",
      "metadata": {
        "id": "arooXt0WIb6x",
        "colab": {
          "base_uri": "https://localhost:8080/"
        },
        "outputId": "0b4a096b-b753-476c-d1c8-5479877138ec"
      },
      "source": [
        "# The maximum number of words to be used. (most frequent)\n",
        "MAX_NB_WORDS = 3000\n",
        "# Max number of words in each sentence.\n",
        "MAX_SEQUENCE_LENGTH = 40\n",
        "# This is fixed.\n",
        "EMBEDDING_DIM = 20\n",
        "tokenizer = Tokenizer(num_words=MAX_NB_WORDS, filters='!\"#$%&()*+,-./:;<=>?@[\\]^_`{|}~', lower=True)\n",
        "tokenizer.fit_on_texts(X_train)\n",
        "word_index = tokenizer.word_index\n",
        "print('Found %s unique tokens.' % len(word_index))\n",
        "\n"
      ],
      "execution_count": 91,
      "outputs": [
        {
          "output_type": "stream",
          "name": "stdout",
          "text": [
            "Found 10351 unique tokens.\n"
          ]
        }
      ]
    },
    {
      "cell_type": "code",
      "source": [
        "X_train_seq = tokenizer.texts_to_sequences(X_train.values)\n",
        "X_train_seq = pad_sequences(X_train_seq, maxlen=MAX_SEQUENCE_LENGTH)\n",
        "print('Shape of training data tensor:', X_train_seq.shape)\n",
        "\n",
        "X_val_seq = tokenizer.texts_to_sequences(X_val.values)\n",
        "X_val_seq = pad_sequences(X_val_seq, maxlen=MAX_SEQUENCE_LENGTH)\n",
        "print('Shape of validation data tensor:', X_val_seq.shape)\n",
        "\n",
        "X_test_seq = tokenizer.texts_to_sequences(X_test.values)\n",
        "X_test_seq = pad_sequences(X_test_seq, maxlen=MAX_SEQUENCE_LENGTH)\n",
        "print('Shape of testing data tensor:', X_test_seq.shape)"
      ],
      "metadata": {
        "colab": {
          "base_uri": "https://localhost:8080/"
        },
        "id": "mWjzilhn1h0m",
        "outputId": "b2f211b6-7d71-4dd6-8f44-dd247da11ad8"
      },
      "execution_count": 92,
      "outputs": [
        {
          "output_type": "stream",
          "name": "stdout",
          "text": [
            "Shape of training data tensor: (19542, 40)\n",
            "Shape of validation data tensor: (6514, 40)\n",
            "Shape of testing data tensor: (6514, 40)\n"
          ]
        }
      ]
    },
    {
      "cell_type": "markdown",
      "metadata": {
        "id": "hA8U9tr7HrNQ"
      },
      "source": [
        "## Model definition\n",
        "Define a 1D CNN or an LSTM for the task. Compile the model with the correct loss function."
      ]
    },
    {
      "cell_type": "code",
      "metadata": {
        "id": "BT1V1s4kHuUe",
        "colab": {
          "base_uri": "https://localhost:8080/"
        },
        "outputId": "068a703f-ca7c-4adb-97ce-31341c0a1d54"
      },
      "source": [
        "from tensorflow.keras.models import Sequential\n",
        "from tensorflow.keras.layers import Activation, Dense, Flatten, Conv1D, MaxPooling1D, Embedding,SpatialDropout1D, LSTM\n",
        "from tensorflow.keras.optimizers import SGD\n",
        "from tensorflow.keras.callbacks import EarlyStopping\n",
        "\n",
        "\n",
        "model = Sequential()\n",
        "model.add(Embedding(MAX_NB_WORDS, EMBEDDING_DIM, input_length=X.shape[1]))\n",
        "model.add(SpatialDropout1D(0.2))\n",
        "model.add(LSTM(64, dropout=0.2, recurrent_dropout=0.2))\n",
        "model.add(Dense(1, activation='sigmoid'))\n",
        "model.compile(loss='binary_crossentropy', optimizer='adam', metrics=['accuracy'])\n",
        "model.summary()\n",
        "\n"
      ],
      "execution_count": 93,
      "outputs": [
        {
          "output_type": "stream",
          "name": "stdout",
          "text": [
            "Model: \"sequential_3\"\n",
            "_________________________________________________________________\n",
            " Layer (type)                Output Shape              Param #   \n",
            "=================================================================\n",
            " embedding_3 (Embedding)     (None, 40, 20)            60000     \n",
            "                                                                 \n",
            " spatial_dropout1d_3 (Spatia  (None, 40, 20)           0         \n",
            " lDropout1D)                                                     \n",
            "                                                                 \n",
            " lstm_3 (LSTM)               (None, 64)                21760     \n",
            "                                                                 \n",
            " dense_3 (Dense)             (None, 1)                 65        \n",
            "                                                                 \n",
            "=================================================================\n",
            "Total params: 81,825\n",
            "Trainable params: 81,825\n",
            "Non-trainable params: 0\n",
            "_________________________________________________________________\n"
          ]
        }
      ]
    },
    {
      "cell_type": "markdown",
      "metadata": {
        "id": "hWFb-nAMHuAI"
      },
      "source": [
        "## Model training\n",
        "Train the model and apply early stopping."
      ]
    },
    {
      "cell_type": "code",
      "metadata": {
        "id": "dvgKjqp3Hwkp",
        "colab": {
          "base_uri": "https://localhost:8080/"
        },
        "outputId": "5d366d69-af41-417f-a021-1f49f3fac7e4"
      },
      "source": [
        "epochs = 10\n",
        "batch_size = 64\n",
        "\n",
        "history = model.fit(X_train_seq, y_train, epochs=epochs, batch_size=batch_size,\n",
        "                    validation_data=(X_val_seq,y_val),\n",
        "                    callbacks=[EarlyStopping(monitor='val_loss', patience=3)])\n"
      ],
      "execution_count": 94,
      "outputs": [
        {
          "output_type": "stream",
          "name": "stdout",
          "text": [
            "Epoch 1/10\n",
            "306/306 [==============================] - 24s 67ms/step - loss: 0.1547 - accuracy: 0.9371 - val_loss: 0.0305 - val_accuracy: 0.9882\n",
            "Epoch 2/10\n",
            "306/306 [==============================] - 20s 66ms/step - loss: 0.0288 - accuracy: 0.9887 - val_loss: 0.0211 - val_accuracy: 0.9886\n",
            "Epoch 3/10\n",
            "306/306 [==============================] - 21s 67ms/step - loss: 0.0202 - accuracy: 0.9903 - val_loss: 0.0189 - val_accuracy: 0.9883\n",
            "Epoch 4/10\n",
            "306/306 [==============================] - 20s 66ms/step - loss: 0.0195 - accuracy: 0.9906 - val_loss: 0.0182 - val_accuracy: 0.9891\n",
            "Epoch 5/10\n",
            "306/306 [==============================] - 20s 67ms/step - loss: 0.0189 - accuracy: 0.9907 - val_loss: 0.0194 - val_accuracy: 0.9889\n",
            "Epoch 6/10\n",
            "306/306 [==============================] - 20s 67ms/step - loss: 0.0194 - accuracy: 0.9905 - val_loss: 0.0191 - val_accuracy: 0.9894\n",
            "Epoch 7/10\n",
            "306/306 [==============================] - 20s 66ms/step - loss: 0.0151 - accuracy: 0.9918 - val_loss: 0.0176 - val_accuracy: 0.9888\n",
            "Epoch 8/10\n",
            "306/306 [==============================] - 20s 65ms/step - loss: 0.0142 - accuracy: 0.9924 - val_loss: 0.0187 - val_accuracy: 0.9897\n",
            "Epoch 9/10\n",
            "306/306 [==============================] - 27s 87ms/step - loss: 0.0141 - accuracy: 0.9919 - val_loss: 0.0174 - val_accuracy: 0.9885\n",
            "Epoch 10/10\n",
            "306/306 [==============================] - 29s 94ms/step - loss: 0.0127 - accuracy: 0.9922 - val_loss: 0.0231 - val_accuracy: 0.9876\n"
          ]
        }
      ]
    },
    {
      "cell_type": "markdown",
      "metadata": {
        "id": "0omw2XzSHwOo"
      },
      "source": [
        "## Evaluation on test data\n",
        "Evaluate the model on the test data in terms of loss and accuracy."
      ]
    },
    {
      "cell_type": "code",
      "metadata": {
        "id": "4bF3dQA1Hv_R",
        "colab": {
          "base_uri": "https://localhost:8080/",
          "height": 281
        },
        "outputId": "605378fe-f9cd-4d7f-cd83-433546851f75"
      },
      "source": [
        "def plot_model_history(his):\n",
        "  plt.title('Loss')\n",
        "  plt.plot(his.history['loss'], label='train')\n",
        "  plt.plot(his.history['val_loss'], label='val')\n",
        "  plt.legend()\n",
        "  plt.show();\n",
        "\n",
        "plot_model_history(history)"
      ],
      "execution_count": 98,
      "outputs": [
        {
          "output_type": "display_data",
          "data": {
            "text/plain": [
              "<Figure size 432x288 with 1 Axes>"
            ],
            "image/png": "[encoded data removed]"
          },
          "metadata": {
            "needs_background": "light"
          }
        }
      ]
    },
    {
      "cell_type": "code",
      "source": [
        "print(model.evaluate(X_test_seq, y_test))\n"
      ],
      "metadata": {
        "colab": {
          "base_uri": "https://localhost:8080/"
        },
        "id": "fzgCGM757g4r",
        "outputId": "5619999e-c0fd-45de-ed28-53b52cbf352c"
      },
      "execution_count": 99,
      "outputs": [
        {
          "output_type": "stream",
          "name": "stdout",
          "text": [
            "204/204 [==============================] - 3s 13ms/step - loss: 0.0218 - accuracy: 0.9880\n",
            "[0.021841641515493393, 0.9880257844924927]\n"
          ]
        }
      ]
    },
    {
      "cell_type": "code",
      "source": [
        "preds = model.predict(X_test_seq)"
      ],
      "metadata": {
        "id": "GHmlTJYw8XoP"
      },
      "execution_count": 114,
      "outputs": []
    },
    {
      "cell_type": "code",
      "source": [
        "preds_label = [round(x[0]) for x in preds]"
      ],
      "metadata": {
        "id": "JC01SetN-cbs"
      },
      "execution_count": 115,
      "outputs": []
    },
    {
      "cell_type": "markdown",
      "metadata": {
        "id": "4Y73Q-h5Hz1r"
      },
      "source": [
        "## Confusion matrix\n",
        "Calculate and display the confusion matrix."
      ]
    },
    {
      "cell_type": "code",
      "metadata": {
        "id": "cW8zZi1uJm2B",
        "colab": {
          "base_uri": "https://localhost:8080/",
          "height": 295
        },
        "outputId": "46ab2c59-b933-444f-abf1-e440e0739750"
      },
      "source": [
        "cm=confusion_matrix(y_test, preds_label)\n",
        "plt.figure()\n",
        "sns.heatmap(cm, annot=True)\n",
        "plt.title('Confusion Matrix')\n",
        "plt.ylabel('Actal Values')\n",
        "plt.xlabel('Predicted Values')\n",
        "plt.show()"
      ],
      "execution_count": 116,
      "outputs": [
        {
          "output_type": "display_data",
          "data": {
            "text/plain": [
              "<Figure size 432x288 with 2 Axes>"
            ],
            "image/png": "[encoded data removed]"
          },
          "metadata": {
            "needs_background": "light"
          }
        }
      ]
    }
  ]
}